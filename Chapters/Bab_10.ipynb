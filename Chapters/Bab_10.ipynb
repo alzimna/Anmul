{
  "nbformat": 4,
  "nbformat_minor": 0,
  "metadata": {
    "colab": {
      "provenance": [],
      "authorship_tag": "ABX9TyNO0h4UbHDu5SOMWUsSC5mh",
      "include_colab_link": true
    },
    "kernelspec": {
      "name": "python3",
      "display_name": "Python 3"
    },
    "language_info": {
      "name": "python"
    }
  },
  "cells": [
    {
      "cell_type": "markdown",
      "metadata": {
        "id": "view-in-github",
        "colab_type": "text"
      },
      "source": [
        "<a href=\"https://colab.research.google.com/github/alzimna/Anmul/blob/main/Chapters/Bab_10.ipynb\" target=\"_parent\"><img src=\"https://colab.research.google.com/assets/colab-badge.svg\" alt=\"Open In Colab\"/></a>"
      ]
    },
    {
      "cell_type": "code",
      "execution_count": 258,
      "metadata": {
        "id": "s2jiJKR9gEZA"
      },
      "outputs": [],
      "source": [
        "import numpy as np\n",
        "import pandas as pd\n",
        "import scipy\n",
        "import os\n",
        "import math\n",
        "import cv2\n",
        "import shutil\n",
        "import requests, zipfile, io\n",
        "from PIL import Image\n",
        "from skimage import feature, color, data\n",
        "from sklearn.preprocessing import LabelEncoder\n",
        "import matplotlib.pyplot as plt\n",
        "from IPython.display import clear_output\n",
        "from numpy.linalg import inv as inv\n",
        "from numpy.linalg import eig as eig\n",
        "from numpy import transpose as t\n",
        "from numpy.linalg import det as det"
      ]
    },
    {
      "cell_type": "markdown",
      "source": [
        "# **Example 10.4.2**"
      ],
      "metadata": {
        "id": "evFVFr05r9xN"
      }
    },
    {
      "cell_type": "code",
      "source": [
        "url = 'https://github.com/alzimna/Anmul/raw/main/data/t10.1.xlsx'\n",
        "data = pd.read_excel(url)\n",
        "print(data.head())"
      ],
      "metadata": {
        "colab": {
          "base_uri": "https://localhost:8080/"
        },
        "id": "hxoPHdJBpcE9",
        "outputId": "50f86d5b-af45-4b03-f6e6-f0db58c29e72"
      },
      "execution_count": 259,
      "outputs": [
        {
          "output_type": "stream",
          "name": "stdout",
          "text": [
            "   Obs    y1    y2    y3   x1    x2   x3\n",
            "0    1  41.5  45.9  11.2  162  23.0  3.0\n",
            "1    2  33.8  53.3  11.2  162  23.0  8.0\n",
            "2    3  27.7  57.5  12.7  162  30.0  5.0\n",
            "3    4  21.7  58.8  16.0  162  30.0  8.0\n",
            "4    5  19.9  60.6  16.2  172  25.0  5.0\n"
          ]
        }
      ]
    },
    {
      "cell_type": "code",
      "source": [
        "n = data.shape[0]\n",
        "one = pd.DataFrame(np.ones(n),columns = [\"x0\"])\n",
        "X = pd.concat([one,data.iloc[:,4:7]],axis = 1)\n",
        "print(\"matriks X =\")\n",
        "print(X.head())\n",
        "Y = data.iloc[:,1:4]\n",
        "print(\"matriks Y =\")\n",
        "print(Y.head())\n",
        "B = inv(t(X) @ X) @ t(X) @ Y\n",
        "print(\"Diperoleh matriks B =\")\n",
        "print(round(B,2))"
      ],
      "metadata": {
        "colab": {
          "base_uri": "https://localhost:8080/"
        },
        "id": "P19Bz8WppgmT",
        "outputId": "7aa74bbc-42d9-44ad-8568-9df8183fd2f3"
      },
      "execution_count": 260,
      "outputs": [
        {
          "output_type": "stream",
          "name": "stdout",
          "text": [
            "matriks X =\n",
            "    x0   x1    x2   x3\n",
            "0  1.0  162  23.0  3.0\n",
            "1  1.0  162  23.0  8.0\n",
            "2  1.0  162  30.0  5.0\n",
            "3  1.0  162  30.0  8.0\n",
            "4  1.0  172  25.0  5.0\n",
            "matriks Y =\n",
            "     y1    y2    y3\n",
            "0  41.5  45.9  11.2\n",
            "1  33.8  53.3  11.2\n",
            "2  27.7  57.5  12.7\n",
            "3  21.7  58.8  16.0\n",
            "4  19.9  60.6  16.2\n",
            "Diperoleh matriks B =\n",
            "       y1     y2      y3\n",
            "0  332.11 -26.04 -164.08\n",
            "1   -1.55   0.40    0.91\n",
            "2   -1.42   0.29    0.90\n",
            "3   -2.24   1.03    1.15\n"
          ]
        }
      ]
    },
    {
      "cell_type": "markdown",
      "source": [
        "# **Example 10.5.1**"
      ],
      "metadata": {
        "id": "vVqJAz4zvhXI"
      }
    },
    {
      "cell_type": "code",
      "source": [
        "url = 'https://github.com/alzimna/Anmul/raw/main/data/t10.1.xlsx'\n",
        "data = pd.read_excel(url)\n",
        "print(data.head())"
      ],
      "metadata": {
        "colab": {
          "base_uri": "https://localhost:8080/"
        },
        "id": "LKu445dgrmZ3",
        "outputId": "60d34821-1b22-4413-96f2-f3a2f8e29832"
      },
      "execution_count": 261,
      "outputs": [
        {
          "output_type": "stream",
          "name": "stdout",
          "text": [
            "   Obs    y1    y2    y3   x1    x2   x3\n",
            "0    1  41.5  45.9  11.2  162  23.0  3.0\n",
            "1    2  33.8  53.3  11.2  162  23.0  8.0\n",
            "2    3  27.7  57.5  12.7  162  30.0  5.0\n",
            "3    4  21.7  58.8  16.0  162  30.0  8.0\n",
            "4    5  19.9  60.6  16.2  172  25.0  5.0\n"
          ]
        }
      ]
    },
    {
      "cell_type": "code",
      "source": [
        "X = pd.concat([one,data.iloc[:,4:7]],axis = 1)\n",
        "Y = data.iloc[:,1:4]\n",
        "E = (t(Y) @ Y) - (t(B).values @ t(X).values @ Y.values)\n",
        "H = (t(B).values @ t(X).values @ Y.values) - n * t(ybar) @ ybar\n",
        "print(\"Matriks E = \")\n",
        "print(round(E,3))\n",
        "print(\"Matriks H = \")\n",
        "print(np.matrix.round(H,3))\n",
        "w,V = eig(inv(E) @ H)\n",
        "print(\"Nilai eigen dari inv(E) @ H adalah \")\n",
        "print(w)"
      ],
      "metadata": {
        "colab": {
          "base_uri": "https://localhost:8080/"
        },
        "id": "9fm0JetAvmAi",
        "outputId": "4f5ea19b-9041-4d25-e44e-7e16a353baa8"
      },
      "execution_count": 262,
      "outputs": [
        {
          "output_type": "stream",
          "name": "stdout",
          "text": [
            "Matriks E = \n",
            "        y1       y2       y3\n",
            "y1  80.174  -21.704  -65.923\n",
            "y2 -21.704  249.462 -179.496\n",
            "y3 -65.923 -179.496  231.197\n",
            "Matriks H = \n",
            "[[1707.158 -492.532 -996.584]\n",
            " [-492.532  151.002  283.607]\n",
            " [-996.584  283.607  583.688]]\n",
            "Nilai eigen dari inv(E) @ H adalah \n",
            "[2.63183492e+01 1.00352667e-01 3.29808380e-03]\n"
          ]
        }
      ]
    },
    {
      "cell_type": "code",
      "source": [
        "# Lambda Wilks Test\n",
        "Lambda = 1\n",
        "for item in w :\n",
        "  Lambda*=1/(1+item)\n",
        "print(\"Lambda = \",Lambda)\n",
        "\n",
        "# Roys test\n",
        "theta = max(w)/(1+max(w))\n",
        "print(\"Theta = \",theta)\n",
        "\n",
        "# Pillai\n",
        "V = 0\n",
        "for item in w :\n",
        "  V+=item/(1+item)\n",
        "print(\"V = \",V)\n",
        "\n",
        "# Lawley\n",
        "U = 0\n",
        "for item in w :\n",
        "  U+=item\n",
        "print(\"U = \",U)"
      ],
      "metadata": {
        "colab": {
          "base_uri": "https://localhost:8080/"
        },
        "id": "pBRtFe4A48eR",
        "outputId": "b7f59e34-a92d-4135-96b8-97f986646f84"
      },
      "execution_count": 263,
      "outputs": [
        {
          "output_type": "stream",
          "name": "stdout",
          "text": [
            "Lambda =  0.033157643997862495\n",
            "Theta =  0.9633945670691759\n",
            "V =  1.0578822671556265\n",
            "U =  26.42199996668044\n"
          ]
        }
      ]
    },
    {
      "cell_type": "markdown",
      "source": [
        "# **Example 10.5.2**"
      ],
      "metadata": {
        "id": "BzbClo76DZVH"
      }
    },
    {
      "cell_type": "code",
      "source": [
        "Sec = pd.DataFrame()\n",
        "Sec[\"x1^2\"] = X.iloc[:,1]**2\n",
        "Sec[\"x2^2\"] = X.iloc[:,2]**2\n",
        "Sec[\"x3^2\"] = X.iloc[:,3]**2\n",
        "Sec[\"x1x2\"] = X.iloc[:,1] * X.iloc[:,2]\n",
        "Sec[\"x1x3\"] = X.iloc[:,1] * X.iloc[:,3]\n",
        "Sec[\"x2x3\"] = X.iloc[:,2] * X.iloc[:,3]\n",
        "X = pd.concat([X,Sec],axis = 1)\n",
        "Y = data.iloc[:,1:4]\n",
        "B = inv(t(X) @ X) @ t(X) @ Y\n",
        "E = (t(Y) @ Y) - (t(B).values @ t(X).values @ Y.values)\n",
        "H = (t(B).values @ t(X).values @ Y.values) - n * t(ybar) @ ybar\n",
        "print(\"Matriks E = \")\n",
        "print(round(E,3))\n",
        "print(\"Matriks H = \")\n",
        "print(np.matrix.round(H,3))\n",
        "w,V = eig(inv(E) @ H)\n",
        "print(\"Nilai eigen dari inv(E) @ H adalah \")\n",
        "print(w)"
      ],
      "metadata": {
        "colab": {
          "base_uri": "https://localhost:8080/"
        },
        "id": "S9FMUHow57dR",
        "outputId": "2d089a05-0a86-4a84-abe8-34daa3fbd2dc"
      },
      "execution_count": 264,
      "outputs": [
        {
          "output_type": "stream",
          "name": "stdout",
          "text": [
            "Matriks E = \n",
            "        y1      y2       y3\n",
            "y1  46.208   9.643  -57.179\n",
            "y2   9.643  60.675  -76.025\n",
            "y3 -57.179 -76.025  146.179\n",
            "Matriks H = \n",
            "[[ 1741.123  -523.878 -1005.327]\n",
            " [ -523.878   339.789   180.136]\n",
            " [-1005.327   180.136   668.706]]\n",
            "Nilai eigen dari inv(E) @ H adalah \n",
            "[48.90845676  0.27212976  9.84592745]\n"
          ]
        }
      ]
    },
    {
      "cell_type": "code",
      "source": [
        "Lambda_r = Lambda\n",
        "# Lambda Wilks Test\n",
        "Lambda_f = 1\n",
        "for item in w :\n",
        "  Lambda_f*=1/(1+item)\n",
        "print(\"Lambda = \",Lambda_f/Lambda_r)"
      ],
      "metadata": {
        "colab": {
          "base_uri": "https://localhost:8080/"
        },
        "id": "c3BjsTqz6SjO",
        "outputId": "135f7a43-6f3e-42ed-d7ba-054e3af46150"
      },
      "execution_count": 265,
      "outputs": [
        {
          "output_type": "stream",
          "name": "stdout",
          "text": [
            "Lambda =  0.043796972229939696\n"
          ]
        }
      ]
    },
    {
      "cell_type": "markdown",
      "source": [
        "# **Example 10.6**"
      ],
      "metadata": {
        "id": "Rw2dkzwFEwiJ"
      }
    },
    {
      "cell_type": "code",
      "source": [
        "S = data.iloc[:,1:].cov()"
      ],
      "metadata": {
        "id": "GB18g89-De_s"
      },
      "execution_count": 266,
      "outputs": []
    },
    {
      "cell_type": "code",
      "source": [
        "S"
      ],
      "metadata": {
        "colab": {
          "base_uri": "https://localhost:8080/",
          "height": 237
        },
        "id": "pvrmxGleE9DV",
        "outputId": "ff94eae7-3201-4a35-97e5-53e85b2e92ff"
      },
      "execution_count": 267,
      "outputs": [
        {
          "output_type": "execute_result",
          "data": {
            "text/plain": [
              "           y1         y2         y3         x1         x2        x3\n",
              "y1  99.296199 -28.568626 -59.028129 -41.948538  -9.487573 -7.363889\n",
              "y2 -28.568626  22.248012   5.783947  11.848830   1.598392  3.025000\n",
              "y3 -59.028129   5.783947  45.271404  24.138596   6.430848  3.972222\n",
              "x1 -41.948538  11.848830  24.138596  38.672515 -12.172515 -0.222222\n",
              "x2  -9.487573   1.598392   6.430848 -12.172515  17.950292  1.222222\n",
              "x3  -7.363889   3.025000   3.972222  -0.222222   1.222222  2.666667"
            ],
            "text/html": [
              "\n",
              "  <div id=\"df-7556508b-5ec4-45b1-8b76-b845e975aa5b\" class=\"colab-df-container\">\n",
              "    <div>\n",
              "<style scoped>\n",
              "    .dataframe tbody tr th:only-of-type {\n",
              "        vertical-align: middle;\n",
              "    }\n",
              "\n",
              "    .dataframe tbody tr th {\n",
              "        vertical-align: top;\n",
              "    }\n",
              "\n",
              "    .dataframe thead th {\n",
              "        text-align: right;\n",
              "    }\n",
              "</style>\n",
              "<table border=\"1\" class=\"dataframe\">\n",
              "  <thead>\n",
              "    <tr style=\"text-align: right;\">\n",
              "      <th></th>\n",
              "      <th>y1</th>\n",
              "      <th>y2</th>\n",
              "      <th>y3</th>\n",
              "      <th>x1</th>\n",
              "      <th>x2</th>\n",
              "      <th>x3</th>\n",
              "    </tr>\n",
              "  </thead>\n",
              "  <tbody>\n",
              "    <tr>\n",
              "      <th>y1</th>\n",
              "      <td>99.296199</td>\n",
              "      <td>-28.568626</td>\n",
              "      <td>-59.028129</td>\n",
              "      <td>-41.948538</td>\n",
              "      <td>-9.487573</td>\n",
              "      <td>-7.363889</td>\n",
              "    </tr>\n",
              "    <tr>\n",
              "      <th>y2</th>\n",
              "      <td>-28.568626</td>\n",
              "      <td>22.248012</td>\n",
              "      <td>5.783947</td>\n",
              "      <td>11.848830</td>\n",
              "      <td>1.598392</td>\n",
              "      <td>3.025000</td>\n",
              "    </tr>\n",
              "    <tr>\n",
              "      <th>y3</th>\n",
              "      <td>-59.028129</td>\n",
              "      <td>5.783947</td>\n",
              "      <td>45.271404</td>\n",
              "      <td>24.138596</td>\n",
              "      <td>6.430848</td>\n",
              "      <td>3.972222</td>\n",
              "    </tr>\n",
              "    <tr>\n",
              "      <th>x1</th>\n",
              "      <td>-41.948538</td>\n",
              "      <td>11.848830</td>\n",
              "      <td>24.138596</td>\n",
              "      <td>38.672515</td>\n",
              "      <td>-12.172515</td>\n",
              "      <td>-0.222222</td>\n",
              "    </tr>\n",
              "    <tr>\n",
              "      <th>x2</th>\n",
              "      <td>-9.487573</td>\n",
              "      <td>1.598392</td>\n",
              "      <td>6.430848</td>\n",
              "      <td>-12.172515</td>\n",
              "      <td>17.950292</td>\n",
              "      <td>1.222222</td>\n",
              "    </tr>\n",
              "    <tr>\n",
              "      <th>x3</th>\n",
              "      <td>-7.363889</td>\n",
              "      <td>3.025000</td>\n",
              "      <td>3.972222</td>\n",
              "      <td>-0.222222</td>\n",
              "      <td>1.222222</td>\n",
              "      <td>2.666667</td>\n",
              "    </tr>\n",
              "  </tbody>\n",
              "</table>\n",
              "</div>\n",
              "    <div class=\"colab-df-buttons\">\n",
              "\n",
              "  <div class=\"colab-df-container\">\n",
              "    <button class=\"colab-df-convert\" onclick=\"convertToInteractive('df-7556508b-5ec4-45b1-8b76-b845e975aa5b')\"\n",
              "            title=\"Convert this dataframe to an interactive table.\"\n",
              "            style=\"display:none;\">\n",
              "\n",
              "  <svg xmlns=\"http://www.w3.org/2000/svg\" height=\"24px\" viewBox=\"0 -960 960 960\">\n",
              "    <path d=\"M120-120v-720h720v720H120Zm60-500h600v-160H180v160Zm220 220h160v-160H400v160Zm0 220h160v-160H400v160ZM180-400h160v-160H180v160Zm440 0h160v-160H620v160ZM180-180h160v-160H180v160Zm440 0h160v-160H620v160Z\"/>\n",
              "  </svg>\n",
              "    </button>\n",
              "\n",
              "  <style>\n",
              "    .colab-df-container {\n",
              "      display:flex;\n",
              "      gap: 12px;\n",
              "    }\n",
              "\n",
              "    .colab-df-convert {\n",
              "      background-color: #E8F0FE;\n",
              "      border: none;\n",
              "      border-radius: 50%;\n",
              "      cursor: pointer;\n",
              "      display: none;\n",
              "      fill: #1967D2;\n",
              "      height: 32px;\n",
              "      padding: 0 0 0 0;\n",
              "      width: 32px;\n",
              "    }\n",
              "\n",
              "    .colab-df-convert:hover {\n",
              "      background-color: #E2EBFA;\n",
              "      box-shadow: 0px 1px 2px rgba(60, 64, 67, 0.3), 0px 1px 3px 1px rgba(60, 64, 67, 0.15);\n",
              "      fill: #174EA6;\n",
              "    }\n",
              "\n",
              "    .colab-df-buttons div {\n",
              "      margin-bottom: 4px;\n",
              "    }\n",
              "\n",
              "    [theme=dark] .colab-df-convert {\n",
              "      background-color: #3B4455;\n",
              "      fill: #D2E3FC;\n",
              "    }\n",
              "\n",
              "    [theme=dark] .colab-df-convert:hover {\n",
              "      background-color: #434B5C;\n",
              "      box-shadow: 0px 1px 3px 1px rgba(0, 0, 0, 0.15);\n",
              "      filter: drop-shadow(0px 1px 2px rgba(0, 0, 0, 0.3));\n",
              "      fill: #FFFFFF;\n",
              "    }\n",
              "  </style>\n",
              "\n",
              "    <script>\n",
              "      const buttonEl =\n",
              "        document.querySelector('#df-7556508b-5ec4-45b1-8b76-b845e975aa5b button.colab-df-convert');\n",
              "      buttonEl.style.display =\n",
              "        google.colab.kernel.accessAllowed ? 'block' : 'none';\n",
              "\n",
              "      async function convertToInteractive(key) {\n",
              "        const element = document.querySelector('#df-7556508b-5ec4-45b1-8b76-b845e975aa5b');\n",
              "        const dataTable =\n",
              "          await google.colab.kernel.invokeFunction('convertToInteractive',\n",
              "                                                    [key], {});\n",
              "        if (!dataTable) return;\n",
              "\n",
              "        const docLinkHtml = 'Like what you see? Visit the ' +\n",
              "          '<a target=\"_blank\" href=https://colab.research.google.com/notebooks/data_table.ipynb>data table notebook</a>'\n",
              "          + ' to learn more about interactive tables.';\n",
              "        element.innerHTML = '';\n",
              "        dataTable['output_type'] = 'display_data';\n",
              "        await google.colab.output.renderOutput(dataTable, element);\n",
              "        const docLink = document.createElement('div');\n",
              "        docLink.innerHTML = docLinkHtml;\n",
              "        element.appendChild(docLink);\n",
              "      }\n",
              "    </script>\n",
              "  </div>\n",
              "\n",
              "\n",
              "<div id=\"df-89e899e0-ae66-4152-9671-a0874554fd43\">\n",
              "  <button class=\"colab-df-quickchart\" onclick=\"quickchart('df-89e899e0-ae66-4152-9671-a0874554fd43')\"\n",
              "            title=\"Suggest charts\"\n",
              "            style=\"display:none;\">\n",
              "\n",
              "<svg xmlns=\"http://www.w3.org/2000/svg\" height=\"24px\"viewBox=\"0 0 24 24\"\n",
              "     width=\"24px\">\n",
              "    <g>\n",
              "        <path d=\"M19 3H5c-1.1 0-2 .9-2 2v14c0 1.1.9 2 2 2h14c1.1 0 2-.9 2-2V5c0-1.1-.9-2-2-2zM9 17H7v-7h2v7zm4 0h-2V7h2v10zm4 0h-2v-4h2v4z\"/>\n",
              "    </g>\n",
              "</svg>\n",
              "  </button>\n",
              "\n",
              "<style>\n",
              "  .colab-df-quickchart {\n",
              "      --bg-color: #E8F0FE;\n",
              "      --fill-color: #1967D2;\n",
              "      --hover-bg-color: #E2EBFA;\n",
              "      --hover-fill-color: #174EA6;\n",
              "      --disabled-fill-color: #AAA;\n",
              "      --disabled-bg-color: #DDD;\n",
              "  }\n",
              "\n",
              "  [theme=dark] .colab-df-quickchart {\n",
              "      --bg-color: #3B4455;\n",
              "      --fill-color: #D2E3FC;\n",
              "      --hover-bg-color: #434B5C;\n",
              "      --hover-fill-color: #FFFFFF;\n",
              "      --disabled-bg-color: #3B4455;\n",
              "      --disabled-fill-color: #666;\n",
              "  }\n",
              "\n",
              "  .colab-df-quickchart {\n",
              "    background-color: var(--bg-color);\n",
              "    border: none;\n",
              "    border-radius: 50%;\n",
              "    cursor: pointer;\n",
              "    display: none;\n",
              "    fill: var(--fill-color);\n",
              "    height: 32px;\n",
              "    padding: 0;\n",
              "    width: 32px;\n",
              "  }\n",
              "\n",
              "  .colab-df-quickchart:hover {\n",
              "    background-color: var(--hover-bg-color);\n",
              "    box-shadow: 0 1px 2px rgba(60, 64, 67, 0.3), 0 1px 3px 1px rgba(60, 64, 67, 0.15);\n",
              "    fill: var(--button-hover-fill-color);\n",
              "  }\n",
              "\n",
              "  .colab-df-quickchart-complete:disabled,\n",
              "  .colab-df-quickchart-complete:disabled:hover {\n",
              "    background-color: var(--disabled-bg-color);\n",
              "    fill: var(--disabled-fill-color);\n",
              "    box-shadow: none;\n",
              "  }\n",
              "\n",
              "  .colab-df-spinner {\n",
              "    border: 2px solid var(--fill-color);\n",
              "    border-color: transparent;\n",
              "    border-bottom-color: var(--fill-color);\n",
              "    animation:\n",
              "      spin 1s steps(1) infinite;\n",
              "  }\n",
              "\n",
              "  @keyframes spin {\n",
              "    0% {\n",
              "      border-color: transparent;\n",
              "      border-bottom-color: var(--fill-color);\n",
              "      border-left-color: var(--fill-color);\n",
              "    }\n",
              "    20% {\n",
              "      border-color: transparent;\n",
              "      border-left-color: var(--fill-color);\n",
              "      border-top-color: var(--fill-color);\n",
              "    }\n",
              "    30% {\n",
              "      border-color: transparent;\n",
              "      border-left-color: var(--fill-color);\n",
              "      border-top-color: var(--fill-color);\n",
              "      border-right-color: var(--fill-color);\n",
              "    }\n",
              "    40% {\n",
              "      border-color: transparent;\n",
              "      border-right-color: var(--fill-color);\n",
              "      border-top-color: var(--fill-color);\n",
              "    }\n",
              "    60% {\n",
              "      border-color: transparent;\n",
              "      border-right-color: var(--fill-color);\n",
              "    }\n",
              "    80% {\n",
              "      border-color: transparent;\n",
              "      border-right-color: var(--fill-color);\n",
              "      border-bottom-color: var(--fill-color);\n",
              "    }\n",
              "    90% {\n",
              "      border-color: transparent;\n",
              "      border-bottom-color: var(--fill-color);\n",
              "    }\n",
              "  }\n",
              "</style>\n",
              "\n",
              "  <script>\n",
              "    async function quickchart(key) {\n",
              "      const quickchartButtonEl =\n",
              "        document.querySelector('#' + key + ' button');\n",
              "      quickchartButtonEl.disabled = true;  // To prevent multiple clicks.\n",
              "      quickchartButtonEl.classList.add('colab-df-spinner');\n",
              "      try {\n",
              "        const charts = await google.colab.kernel.invokeFunction(\n",
              "            'suggestCharts', [key], {});\n",
              "      } catch (error) {\n",
              "        console.error('Error during call to suggestCharts:', error);\n",
              "      }\n",
              "      quickchartButtonEl.classList.remove('colab-df-spinner');\n",
              "      quickchartButtonEl.classList.add('colab-df-quickchart-complete');\n",
              "    }\n",
              "    (() => {\n",
              "      let quickchartButtonEl =\n",
              "        document.querySelector('#df-89e899e0-ae66-4152-9671-a0874554fd43 button');\n",
              "      quickchartButtonEl.style.display =\n",
              "        google.colab.kernel.accessAllowed ? 'block' : 'none';\n",
              "    })();\n",
              "  </script>\n",
              "</div>\n",
              "    </div>\n",
              "  </div>\n"
            ]
          },
          "metadata": {},
          "execution_count": 267
        }
      ]
    },
    {
      "cell_type": "code",
      "source": [
        "Syy = S.iloc[:3,:3]\n",
        "Syx = S.iloc[:3,3:]\n",
        "Sxy = S.iloc[3:,:3]\n",
        "Sxx = S.iloc[3:,3:]\n",
        "RM_squared = det(Syx.values @ inv(Sxx) @ Sxy.values)/det(Syy)\n",
        "print(\"RM_squared = \",round(RM_squared,5))\n",
        "RV = np.trace(Sxy.values @ Syx.values)/np.sqrt(np.trace(Sxx.values @ Sxx.values) * np.trace(Syy.values @ Syy.values))\n",
        "print(\"RV = \",round(RV,3))\n"
      ],
      "metadata": {
        "colab": {
          "base_uri": "https://localhost:8080/"
        },
        "id": "sCGV9vTRE-Q2",
        "outputId": "9c9d7449-5d4f-4215-9ffb-e4a9461881a3"
      },
      "execution_count": 268,
      "outputs": [
        {
          "output_type": "stream",
          "name": "stdout",
          "text": [
            "RM_squared =  0.00029\n",
            "RV =  0.403\n"
          ]
        }
      ]
    },
    {
      "cell_type": "code",
      "source": [],
      "metadata": {
        "id": "Tc0ctX1ZI_UR"
      },
      "execution_count": 268,
      "outputs": []
    }
  ]
}