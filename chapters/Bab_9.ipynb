{
  "nbformat": 4,
  "nbformat_minor": 0,
  "metadata": {
    "colab": {
      "provenance": [],
      "toc_visible": true,
      "authorship_tag": "ABX9TyPfvn9/QXACukC4CfougZ+D",
      "include_colab_link": true
    },
    "kernelspec": {
      "name": "python3",
      "display_name": "Python 3"
    },
    "language_info": {
      "name": "python"
    }
  },
  "cells": [
    {
      "cell_type": "markdown",
      "metadata": {
        "id": "view-in-github",
        "colab_type": "text"
      },
      "source": [
        "<a href=\"https://colab.research.google.com/github/alzimna/Anmul/blob/main/chapters/Bab_9.ipynb\" target=\"_parent\"><img src=\"https://colab.research.google.com/assets/colab-badge.svg\" alt=\"Open In Colab\"/></a>"
      ]
    },
    {
      "cell_type": "code",
      "source": [
        "import numpy as np\n",
        "import pandas as pd\n",
        "import scipy\n",
        "import math\n",
        "\n",
        "def accuracy_rate(df) :\n",
        "  trace = df.to_numpy().trace()\n",
        "  total = df.to_numpy().sum()\n",
        "  return(trace/total)"
      ],
      "metadata": {
        "id": "zi8azYbIGywo"
      },
      "execution_count": 14,
      "outputs": []
    },
    {
      "cell_type": "markdown",
      "source": [
        "#**BAB 9**"
      ],
      "metadata": {
        "id": "mPr2BN5jRAnY"
      }
    },
    {
      "cell_type": "markdown",
      "source": [
        "##  9.2 CLASSIFICATION INTO TWO GROUPS"
      ],
      "metadata": {
        "id": "SF1l7tDp_GPg"
      }
    },
    {
      "cell_type": "markdown",
      "source": [
        "### **Example 9.2**\n",
        "\n",
        "For the psychological data of Table 5.1, $y_1$, $y_2$, and $S_{pl}$ were obtained in Example 5.4.2. The discriminant function coefficients were obtained in Example 5.5 as $a' = (.5104, -.2032, .4660, -.3097)$. For $G_1$ (the male group), we find\n",
        "$$\\bar{\\mathbf{z}}_1 = a'\\bar{\\mathbf{y}}_1 =  .5104(15.97) - .2032(15.91) + .4660(27.19) - .3097(22.75)\\\\\n",
        "=10.5427$$\n",
        "\n",
        "Similarly, for $G_2$ (the female group), $\\mathbf{z}_2 = \\mathbf{a}'\n",
        "\\bar{\\mathbf{y}}_2 = 4.4426$. Thus we assign an observation vector $\\mathbf{y}$ to $G_1$ if\n",
        "$$\n",
        "z = \\mathbf{a}'\\mathbf{y} >\\frac{1}{2}(z_1+z_2) =  7.4927\n",
        "$$\n",
        "and assign $\\mathbf{y}$ to $G_2$ if $z < 7.4927$.\n",
        "\n",
        "There are no new observations available, so we will illustrate the procedure\n",
        "by classifying two of the observations in $G_1$. For $\\mathbf{y}'_{11} = (15, 17, 24, 14)$, the first observation in $G_1$, we have $z_{11} = \\mathbf{a}'y_{11} = .5104(15) - .2032(17) + .4660(24) -.3097(14) = 11.0498$, which is greater than $7.4927$, and $y_{11}$ would be correctly classified as belonging to $G_1$. For $y_{14} = (13, 12, 10, 16)$, the fourth observation in $G_1$, we find $z_{14} = 3.9016$, which would misclassify $y_{14}$ into $G_2$."
      ],
      "metadata": {
        "id": "WSFNfvZvBgPK"
      }
    },
    {
      "cell_type": "code",
      "source": [
        "url = 'https://github.com/alzimna/Anmul/raw/main/data/t5.1.xlsx'\n",
        "data = pd.read_excel(url)\n",
        "print(data.head())\n",
        "y1_bar = round(data.iloc[:,:4].mean(),2).values\n",
        "y2_bar = round(data.iloc[:,4:].mean(),2).values\n",
        "S1 = round(pd.DataFrame.cov(data.iloc[:,:4]),3).values\n",
        "S2 = round(pd.DataFrame.cov(data.iloc[:,4:]),3).values\n",
        "S_pl = 1/(32+32-2)*((32-1)*S1+(32-1)*S2)\n",
        "a = np.matmul(np.linalg.inv(S_pl),y1_bar-y2_bar)\n",
        "z1_bar = np.matmul(a,y1_bar)\n",
        "z2_bar = np.matmul(a,y2_bar)\n",
        "z_batas = 1/2*(z1_bar+z2_bar)\n",
        "print(\"z1_bar = \",z1_bar)\n",
        "print(\"z2_bar = \",z2_bar)\n",
        "print(\"z_batas = \",z_batas)"
      ],
      "metadata": {
        "colab": {
          "base_uri": "https://localhost:8080/"
        },
        "id": "C_PGAhFuFlmF",
        "outputId": "5fd5da4c-da74-40ce-beb0-6aa54f797ad8"
      },
      "execution_count": 31,
      "outputs": [
        {
          "output_type": "stream",
          "name": "stdout",
          "text": [
            "   X1  X2  X3  X4  Y1  Y2  Y3  Y4\n",
            "0  15  17  24  14  13  14  12  21\n",
            "1  17  15  32  26  14  12  14  26\n",
            "2  15  14  29  23  12  19  21  21\n",
            "3  13  12  10  16  12  13  10  16\n",
            "4  20  17  26  28  11  20  16  16\n",
            "z1_bar =  10.55008844072141\n",
            "z2_bar =  4.444515352516764\n",
            "z_batas =  7.497301896619087\n"
          ]
        }
      ]
    },
    {
      "cell_type": "code",
      "source": [
        "S1 = data.iloc[:,:4].cov()\n",
        "S2 = data.iloc[:,4:].cov()\n",
        "S1.values"
      ],
      "metadata": {
        "colab": {
          "base_uri": "https://localhost:8080/"
        },
        "id": "Hv9dQWh2-cBZ",
        "outputId": "6d455288-cda0-46ec-f717-c66b805f3149"
      },
      "execution_count": 30,
      "outputs": [
        {
          "output_type": "execute_result",
          "data": {
            "text/plain": [
              "array([[ 5.19254032,  4.5453629 ,  6.52217742,  5.25      ],\n",
              "       [ 4.5453629 , 13.18447581,  6.76008065,  6.26612903],\n",
              "       [ 6.52217742,  6.76008065, 28.6733871 , 14.46774194],\n",
              "       [ 5.25      ,  6.26612903, 14.46774194, 16.64516129]])"
            ]
          },
          "metadata": {},
          "execution_count": 30
        }
      ]
    },
    {
      "cell_type": "code",
      "source": [
        "S1"
      ],
      "metadata": {
        "colab": {
          "base_uri": "https://localhost:8080/"
        },
        "id": "gA9sRqvu_BqO",
        "outputId": "c1604268-2102-450c-8df6-a72951d48fcc"
      },
      "execution_count": 32,
      "outputs": [
        {
          "output_type": "execute_result",
          "data": {
            "text/plain": [
              "array([[ 5.193,  4.545,  6.522,  5.25 ],\n",
              "       [ 4.545, 13.184,  6.76 ,  6.266],\n",
              "       [ 6.522,  6.76 , 28.673, 14.468],\n",
              "       [ 5.25 ,  6.266, 14.468, 16.645]])"
            ]
          },
          "metadata": {},
          "execution_count": 32
        }
      ]
    },
    {
      "cell_type": "markdown",
      "source": [
        "##9.3 CLASSIFICATION INTO SEVERAL GROUPS"
      ],
      "metadata": {
        "id": "bzTn7--xRbxZ"
      }
    },
    {
      "cell_type": "markdown",
      "source": [
        "### **Example 9.3**"
      ],
      "metadata": {
        "id": "uKoyv-X8RgdT"
      }
    },
    {
      "cell_type": "code",
      "source": [
        "url = 'https://github.com/alzimna/Anmul/raw/main/data/t8.3.xlsx'\n",
        "data = pd.read_excel(url)\n",
        "data[\"Group\"] = data[\"Group\"].astype('category')\n",
        "Y = np.asmatrix(data.iloc[:,1:].values)\n",
        "y1_bar = round(data[data[\"Group\"]==1].iloc[:,1:].mean(),1).values\n",
        "y2_bar = round(data[data[\"Group\"]==2].iloc[:,1:].mean(),1).values\n",
        "y3_bar = round(data[data[\"Group\"]==3].iloc[:,1:].mean(),1).values\n",
        "print(\"y1_bar =\\n\",y1_bar,sep = \"\")\n",
        "print(\"y2_bar =\\n\",y2_bar,sep = \"\")\n",
        "print(\"y3_bar =\\n\",y3_bar,sep = \"\")\n",
        "\n",
        "#Menghitung E\n",
        "p = int(data.shape[1]-1)\n",
        "n = int(data.shape[0]/3)\n",
        "E = np.asmatrix(np.zeros((p,p)))\n",
        "\n",
        "for j in range(n*3) :\n",
        "  if j<30 :\n",
        "    E += np.transpose(Y[j]-y1_bar) @ (Y[j]-y1_bar)\n",
        "  elif j<60 :\n",
        "    E += np.transpose(Y[j]-y2_bar) @ (Y[j]-y2_bar)\n",
        "  else :\n",
        "    E += np.transpose(Y[j]-y3_bar) @ (Y[j]-y3_bar)\n",
        "E\n",
        "\n",
        "#Menghitung S_pl\n",
        "S_pl = np.matrix.round(E/87,3)\n",
        "\n",
        "#Mencari L_i(y)\n",
        "from sympy import *\n",
        "y1,y2,y3,y4,y5,y6 = symbols('y1 y2 y3 y4 y5 y6')\n",
        "y = [y1,y2,y3,y4,y5,y6]\n",
        "L_1 = (np.matrix.round(np.asmatrix(y1_bar @ np.linalg.inv(S_pl)),1) * Matrix(y))[0]-round((y1_bar @ np.linalg.inv(S_pl) @ np.transpose(y1_bar))/2,1)\n",
        "L_2 = (np.matrix.round(np.asmatrix(y2_bar @ np.linalg.inv(S_pl)),1) * Matrix(y))[0]-round((y2_bar @ np.linalg.inv(S_pl) @ np.transpose(y2_bar))/2,1)\n",
        "L_3 = (np.matrix.round(np.asmatrix(y3_bar @ np.linalg.inv(S_pl)),1) * Matrix(y))[0]-round((y3_bar @ np.linalg.inv(S_pl) @ np.transpose(y3_bar))/2,1)\n",
        "print(\"L_1(y) = \",L_1)\n",
        "print(\"L_2(y) = \",L_2)\n",
        "print(\"L_3(y) = \",L_3)\n",
        "\n",
        "#Mencari nilai L_i untuk y11\n",
        "print(\"L_1(y11) = \",L_1.subs([(y1,13.5),(y2,57.2),(y3,19.5),(y4,12.5),(y5,14.0),(y6,11.0)]))\n",
        "print(\"L_2(y11) = \",L_2.subs([(y1,13.5),(y2,57.2),(y3,19.5),(y4,12.5),(y5,14.0),(y6,11.0)]))\n",
        "print(\"L_3(y11) = \",L_3.subs([(y1,13.5),(y2,57.2),(y3,19.5),(y4,12.5),(y5,14.0),(y6,11.0)]))\n",
        "\n",
        "#Mencari nilai L_i untuk y13\n",
        "print(\"L_1(y13) = \",L_1.subs([(y1,14.5),(y2,55.9),(y3,19),(y4,10),(y5,13),(y6,12)]))\n",
        "print(\"L_2(y13) = \",L_2.subs([(y1,14.5),(y2,55.9),(y3,19),(y4,10),(y5,13),(y6,12)]))\n",
        "print(\"L_3(y13) = \",L_3.subs([(y1,14.5),(y2,55.9),(y3,19),(y4,10),(y5,13),(y6,12)]))"
      ],
      "metadata": {
        "colab": {
          "base_uri": "https://localhost:8080/"
        },
        "id": "0ozcKiOHRfRu",
        "outputId": "7dea09ab-d8cf-44c9-b07f-bab82b84ac67"
      },
      "execution_count": null,
      "outputs": [
        {
          "output_type": "stream",
          "name": "stdout",
          "text": [
            "y1_bar =\n",
            "[15.2 59.  20.1 13.1 14.7 12.3]\n",
            "y2_bar =\n",
            "[15.4 57.4 19.8 10.1 13.5 11.9]\n",
            "y3_bar =\n",
            "[15.6 57.8 19.8 10.9 13.7 11.8]\n",
            "L_1(y) =  7.7*y1 + 13.3*y2 + 3.9*y3 - 1.2*y4 + 14.7*y5 + 8.3*y6 - 640.6\n",
            "L_2(y) =  10.2*y1 + 13.3*y2 + 4.0*y3 - 3.4*y4 + 13.4*y5 + 6.0*y6 - 607.1\n",
            "L_3(y) =  11.0*y1 + 13.3*y2 + 3.9*y3 - 2.7*y4 + 13.2*y5 + 5.2*y6 - 614.2\n",
            "L_1(y11) =  582.260000000000\n",
            "L_2(y11) =  580.460000000000\n",
            "L_3(y11) =  579.360000000000\n",
            "L_1(y13) =  567.320000000000\n",
            "L_2(y13) =  572.470000000000\n",
            "L_3(y13) =  569.870000000000\n"
          ]
        }
      ]
    },
    {
      "cell_type": "markdown",
      "source": [
        "## 9.4  ESTIMATING MISCLASSIFICATION RATES"
      ],
      "metadata": {
        "id": "EnEUVAP_HuC4"
      }
    },
    {
      "cell_type": "markdown",
      "source": [
        "### **Example 9.4(a)**"
      ],
      "metadata": {
        "id": "UTKyt94_IQE5"
      }
    },
    {
      "cell_type": "code",
      "source": [
        "url = 'https://github.com/alzimna/Anmul/raw/main/data/t5.1.xlsx'\n",
        "data = pd.read_excel(url)\n",
        "print(data.head())\n",
        "y1_bar = round(data.iloc[:,:4].mean(),2).values\n",
        "y2_bar = round(data.iloc[:,4:].mean(),2).values\n",
        "S1 = round(pd.DataFrame.cov(data.iloc[:,:4]),3).values\n",
        "S2 = round(pd.DataFrame.cov(data.iloc[:,4:]),3).values\n",
        "S_pl = 1/(32+32-2)*((32-1)*S1+(32-1)*S2)\n",
        "a = np.matmul(np.linalg.inv(S_pl),y1_bar-y2_bar)\n",
        "z1_bar = np.matmul(a,y1_bar)\n",
        "z2_bar = np.matmul(a,y2_bar)\n",
        "z_batas = 1/2*(z1_bar+z2_bar)\n",
        "\n",
        "n_11 = 0\n",
        "n_12 = 0\n",
        "n_21 = 0\n",
        "n_22 = 0\n",
        "for i in range(32) :\n",
        "  y1 = data.iloc[i,:4]\n",
        "  z_y1 = np.matmul(a,y1)\n",
        "  if z_y1 > z_batas :\n",
        "    n_11+=1\n",
        "  else :\n",
        "    n_12+=1\n",
        "\n",
        "  y2 = data.iloc[i,4:]\n",
        "  z_y2 = np.matmul(a,y2)\n",
        "  if z_y2 > z_batas :\n",
        "    n_21+=1\n",
        "  else :\n",
        "    n_22+=1\n",
        "\n",
        "#Membuat tabel hasil klasifikasi\n",
        "print(\"Tabel klasifikasi data psikologi\")\n",
        "d = {'1': [n_11, n_21], '2': [n_12, n_22]}\n",
        "df = pd.DataFrame(data=d,index = [1,2])\n",
        "print(df)\n",
        "acc = accuracy_rate(df)\n",
        "print(\"Accuracy rate = \",acc)"
      ],
      "metadata": {
        "id": "TK21GNQqZ4hw",
        "colab": {
          "base_uri": "https://localhost:8080/"
        },
        "outputId": "eaa1cbdf-37ff-4342-8244-3b73874276e5"
      },
      "execution_count": 17,
      "outputs": [
        {
          "output_type": "stream",
          "name": "stdout",
          "text": [
            "   X1  X2  X3  X4  Y1  Y2  Y3  Y4\n",
            "0  15  17  24  14  13  14  12  21\n",
            "1  17  15  32  26  14  12  14  26\n",
            "2  15  14  29  23  12  19  21  21\n",
            "3  13  12  10  16  12  13  10  16\n",
            "4  20  17  26  28  11  20  16  16\n",
            "Tabel klasifikasi data psikologi\n",
            "    1   2\n",
            "1  28   4\n",
            "2   4  28\n",
            "Accuracy rate =  0.875\n"
          ]
        }
      ]
    },
    {
      "cell_type": "markdown",
      "source": [
        "### **Example 9.4(b)**\n"
      ],
      "metadata": {
        "id": "4Hq71S9vMTV5"
      }
    },
    {
      "cell_type": "code",
      "source": [
        "url = 'https://github.com/alzimna/Anmul/raw/main/data/t8.3.xlsx'\n",
        "data = pd.read_excel(url)\n",
        "data[\"Group\"] = data[\"Group\"].astype('category')\n",
        "Y = np.asmatrix(data.iloc[:,1:].values)\n",
        "y1_bar = round(data[data[\"Group\"]==1].iloc[:,1:].mean(),1).values\n",
        "y2_bar = round(data[data[\"Group\"]==2].iloc[:,1:].mean(),1).values\n",
        "y3_bar = round(data[data[\"Group\"]==3].iloc[:,1:].mean(),1).values\n",
        "\n",
        "#Menghitung E\n",
        "p = int(data.shape[1]-1)\n",
        "n = int(data.shape[0]/3)\n",
        "E = np.asmatrix(np.zeros((p,p)))\n",
        "\n",
        "for j in range(n*3) :\n",
        "  if j<30 :\n",
        "    E += np.transpose(Y[j]-y1_bar) @ (Y[j]-y1_bar)\n",
        "  elif j<60 :\n",
        "    E += np.transpose(Y[j]-y2_bar) @ (Y[j]-y2_bar)\n",
        "  else :\n",
        "    E += np.transpose(Y[j]-y3_bar) @ (Y[j]-y3_bar)\n",
        "E\n",
        "\n",
        "#Menghitung S_pl\n",
        "S_pl = np.matrix.round(E/87,3)\n",
        "\n",
        "n_1 = [0]*3\n",
        "n_2 = [0]*3\n",
        "n_3 = [0]*3\n",
        "for i in range(n*3) :\n",
        "  L1 = float(np.asmatrix(y1_bar @ np.linalg.inv(S_pl)) @ np.transpose(Y[i]))-(y1_bar @ np.linalg.inv(S_pl) @ np.transpose(y1_bar))/2\n",
        "  L2 = float(np.asmatrix(y2_bar @ np.linalg.inv(S_pl)) @ np.transpose(Y[i]))-(y2_bar @ np.linalg.inv(S_pl) @ np.transpose(y2_bar))/2\n",
        "  L3 = float(np.asmatrix(y3_bar @ np.linalg.inv(S_pl)) @ np.transpose(Y[i]))-(y3_bar @ np.linalg.inv(S_pl) @ np.transpose(y3_bar))/2\n",
        "  temp = list([L1,L2,L3])\n",
        "  if i<30 :\n",
        "    n_1[temp.index(max(temp))]+=1\n",
        "  elif i<60 :\n",
        "    n_2[temp.index(max(temp))]+=1\n",
        "  else :\n",
        "    n_3[temp.index(max(temp))]+=1\n",
        "\n",
        "#Membuat tabel hasil klasifikasi\n",
        "print(\"Tabel klasifikasi data football (Linear Classification)\")\n",
        "dfn = [n_1,n_2,n_3]\n",
        "df = pd.DataFrame(dfn,columns = [1,2,3],index = [1,2,3])\n",
        "print(df)\n",
        "acc = accuracy_rate(df)\n",
        "print(\"Accuracy rate = \",acc)"
      ],
      "metadata": {
        "colab": {
          "base_uri": "https://localhost:8080/"
        },
        "outputId": "6656ed42-0b90-4096-f46e-9deffa37cb92",
        "id": "nfa2P3MWMTWX"
      },
      "execution_count": 18,
      "outputs": [
        {
          "output_type": "stream",
          "name": "stdout",
          "text": [
            "Tabel klasifikasi data football (Linear Classification)\n",
            "    1   2   3\n",
            "1  26   1   3\n",
            "2   1  21   8\n",
            "3   2   8  20\n",
            "Accuracy rate =  0.7444444444444445\n"
          ]
        }
      ]
    },
    {
      "cell_type": "code",
      "source": [
        "n_1 = [0]*3\n",
        "n_2 = [0]*3\n",
        "n_3 = [0]*3\n",
        "S1 = data[data[\"Group\"]==1].iloc[:,1:].cov()\n",
        "S2 = data[data[\"Group\"]==2].iloc[:,1:].cov()\n",
        "S3 = data[data[\"Group\"]==3].iloc[:,1:].cov()\n",
        "dS1 = np.linalg.det(S1)\n",
        "dS2 = np.linalg.det(S2)\n",
        "dS3 = np.linalg.det(S3)\n",
        "for i in range(n*3) :\n",
        "  Q1 = -1/2*np.log(abs(dS1))-1/2*float((Y[i]-y1_bar) @ np.linalg.inv(S1) @ np.transpose(Y[i]-y1_bar))\n",
        "  Q2 = -1/2*np.log(abs(dS2))-1/2*float((Y[i]-y2_bar) @ np.linalg.inv(S2) @ np.transpose(Y[i]-y2_bar))\n",
        "  Q3 = -1/2*np.log(abs(dS3))-1/2*float((Y[i]-y3_bar) @ np.linalg.inv(S3) @ np.transpose(Y[i]-y3_bar))\n",
        "  temp = list([Q1,Q2,Q3])\n",
        "  if i<30 :\n",
        "    n_1[temp.index(max(temp))]+=1\n",
        "  elif i<60 :\n",
        "    n_2[temp.index(max(temp))]+=1\n",
        "  else :\n",
        "    n_3[temp.index(max(temp))]+=1\n",
        "\n",
        "#Membuat tabel hasil klasifikasi\n",
        "print(\"Tabel klasifikasi data football (Quadratic Classification)\")\n",
        "dfn = [n_1,n_2,n_3]\n",
        "df = pd.DataFrame(dfn,columns = [1,2,3],index = [1,2,3])\n",
        "print(df)\n",
        "acc = accuracy_rate(df)\n",
        "print(\"Accuracy rate = \",acc)"
      ],
      "metadata": {
        "colab": {
          "base_uri": "https://localhost:8080/"
        },
        "id": "OhmfGpYGV9C9",
        "outputId": "d81e624f-2384-4162-fd7e-ebb165482ae2"
      },
      "execution_count": 19,
      "outputs": [
        {
          "output_type": "stream",
          "name": "stdout",
          "text": [
            "Tabel klasifikasi data football (Quadratic Classification)\n",
            "    1   2   3\n",
            "1  27   1   2\n",
            "2   2  24   4\n",
            "3   1   5  24\n",
            "Accuracy rate =  0.8333333333333334\n"
          ]
        }
      ]
    },
    {
      "cell_type": "markdown",
      "source": [
        "## 9.5 IMPROVED ESTIMATES OF ERROR RATES"
      ],
      "metadata": {
        "id": "ISc4gWzVYZBB"
      }
    },
    {
      "cell_type": "markdown",
      "source": [
        "### **Example 9.5.2**"
      ],
      "metadata": {
        "id": "aTGieVaSYhXT"
      }
    },
    {
      "cell_type": "code",
      "source": [
        "url = 'https://github.com/alzimna/Anmul/raw/main/data/t8.3.xlsx'\n",
        "data = pd.read_excel(url)\n",
        "data[\"Group\"] = data[\"Group\"].astype('category')\n",
        "Y = np.asmatrix(data.iloc[:,1:].values)\n",
        "\n",
        "def holdout(i) :\n",
        "  temp = data.drop(i)\n",
        "  y = data.iloc[i,1:]\n",
        "  y1_bar = round(temp[temp[\"Group\"]==1].iloc[:,1:].mean(),1).values\n",
        "  y2_bar = round(temp[temp[\"Group\"]==2].iloc[:,1:].mean(),1).values\n",
        "  y3_bar = round(temp[temp[\"Group\"]==3].iloc[:,1:].mean(),1).values\n",
        "\n",
        "  Y = np.asmatrix(temp.iloc[:,1:].values)\n",
        "  #Menghitung E\n",
        "  p = int(temp.shape[1]-1)\n",
        "  n = int(temp.shape[0])\n",
        "  E = np.asmatrix(np.zeros((p,p)))\n",
        "\n",
        "  for j in range(n) :\n",
        "    if j<30 :\n",
        "      E += np.transpose(Y[j]-y1_bar) @ (Y[j]-y1_bar)\n",
        "    elif j<60 :\n",
        "      E += np.transpose(Y[j]-y2_bar) @ (Y[j]-y2_bar)\n",
        "    else :\n",
        "      E += np.transpose(Y[j]-y3_bar) @ (Y[j]-y3_bar)\n",
        "\n",
        "  #Menghitung S_pl\n",
        "  S_pl = np.matrix.round(E/86,3)\n",
        "\n",
        "  L1 = float(np.asmatrix(y1_bar @ np.linalg.inv(S_pl)) @ np.transpose(y))-(y1_bar @ np.linalg.inv(S_pl) @ np.transpose(y1_bar))/2\n",
        "  L2 = float(np.asmatrix(y2_bar @ np.linalg.inv(S_pl)) @ np.transpose(y))-(y2_bar @ np.linalg.inv(S_pl) @ np.transpose(y2_bar))/2\n",
        "  L3 = float(np.asmatrix(y3_bar @ np.linalg.inv(S_pl)) @ np.transpose(y))-(y3_bar @ np.linalg.inv(S_pl) @ np.transpose(y3_bar))/2\n",
        "  L = list([L1,L2,L3])\n",
        "  return(L.index(max(L)))\n",
        "\n",
        "n_1 = [0]*3\n",
        "n_2 = [0]*3\n",
        "n_3 = [0]*3\n",
        "for j in range(90) :\n",
        "  grup = holdout(j)\n",
        "  if j<30 :\n",
        "    n_1[grup]+=1\n",
        "  elif j<60 :\n",
        "    n_2[grup]+=1\n",
        "  else :\n",
        "    n_3[grup]+=1\n",
        "#Membuat tabel hasil klasifikasi\n",
        "print(\"Tabel klasifikasi data football (Linear Classification With holdout)\")\n",
        "dfn = [n_1,n_2,n_3]\n",
        "df = pd.DataFrame(dfn,columns = [1,2,3],index = [1,2,3])\n",
        "print(df)\n",
        "acc = accuracy_rate(df)\n",
        "print(\"Accuracy rate = \",acc)"
      ],
      "metadata": {
        "id": "-QM6Rrz3XLpk",
        "colab": {
          "base_uri": "https://localhost:8080/"
        },
        "outputId": "796ce741-2544-41b2-88d2-2beecd4f6ecb"
      },
      "execution_count": 20,
      "outputs": [
        {
          "output_type": "stream",
          "name": "stdout",
          "text": [
            "Tabel klasifikasi data football (Linear Classification With holdout)\n",
            "    1   2   3\n",
            "1  26   1   3\n",
            "2   1  16  13\n",
            "3   2   8  20\n",
            "Accuracy rate =  0.6888888888888889\n"
          ]
        }
      ]
    },
    {
      "cell_type": "markdown",
      "source": [
        "## 9.6 SUBSET SELECTION\n",
        "\n",
        "\n"
      ],
      "metadata": {
        "id": "QpSchDqfgH9r"
      }
    },
    {
      "cell_type": "markdown",
      "source": [
        "### **Example 9.6**"
      ],
      "metadata": {
        "id": "0wWsL1CfgNSZ"
      }
    },
    {
      "cell_type": "code",
      "source": [
        "url = 'https://github.com/alzimna/Anmul/raw/main/data/t8.3.xlsx'\n",
        "data = pd.read_excel(url)[[\"Group\",\"EYEHD\",\"WDIM\",\"JAW\",\"EARHD\"]]\n",
        "data[\"Group\"] = data[\"Group\"].astype('category')\n",
        "Y = np.asmatrix(data.iloc[:,1:].values)\n",
        "y1_bar = round(data[data[\"Group\"]==1].iloc[:,1:].mean(),1).values\n",
        "y2_bar = round(data[data[\"Group\"]==2].iloc[:,1:].mean(),1).values\n",
        "y3_bar = round(data[data[\"Group\"]==3].iloc[:,1:].mean(),1).values\n",
        "\n",
        "#Menghitung E\n",
        "p = int(data.shape[1]-1)\n",
        "n = int(data.shape[0]/3)\n",
        "E = np.asmatrix(np.zeros((p,p)))\n",
        "\n",
        "for j in range(n*3) :\n",
        "  if j<30 :\n",
        "    E += np.transpose(Y[j]-y1_bar) @ (Y[j]-y1_bar)\n",
        "  elif j<60 :\n",
        "    E += np.transpose(Y[j]-y2_bar) @ (Y[j]-y2_bar)\n",
        "  else :\n",
        "    E += np.transpose(Y[j]-y3_bar) @ (Y[j]-y3_bar)\n",
        "E\n",
        "\n",
        "#Menghitung S_pl\n",
        "S_pl = np.matrix.round(E/87,3)\n",
        "\n",
        "n_1 = [0]*3\n",
        "n_2 = [0]*3\n",
        "n_3 = [0]*3\n",
        "for i in range(n*3) :\n",
        "  L1 = float(np.asmatrix(y1_bar @ np.linalg.inv(S_pl)) @ np.transpose(Y[i]))-(y1_bar @ np.linalg.inv(S_pl) @ np.transpose(y1_bar))/2\n",
        "  L2 = float(np.asmatrix(y2_bar @ np.linalg.inv(S_pl)) @ np.transpose(Y[i]))-(y2_bar @ np.linalg.inv(S_pl) @ np.transpose(y2_bar))/2\n",
        "  L3 = float(np.asmatrix(y3_bar @ np.linalg.inv(S_pl)) @ np.transpose(Y[i]))-(y3_bar @ np.linalg.inv(S_pl) @ np.transpose(y3_bar))/2\n",
        "  temp = list([L1,L2,L3])\n",
        "  if i<30 :\n",
        "    n_1[temp.index(max(temp))]+=1\n",
        "  elif i<60 :\n",
        "    n_2[temp.index(max(temp))]+=1\n",
        "  else :\n",
        "    n_3[temp.index(max(temp))]+=1\n",
        "\n",
        "#Membuat tabel hasil klasifikasi\n",
        "print(\"Tabel klasifikasi data football (Linear Classification With Subset Selection)\")\n",
        "dfn = [n_1,n_2,n_3]\n",
        "df = pd.DataFrame(dfn,columns = [1,2,3],index = [1,2,3])\n",
        "print(df)\n",
        "acc = accuracy_rate(df)\n",
        "print(\"Accuracy rate = \",acc)"
      ],
      "metadata": {
        "colab": {
          "base_uri": "https://localhost:8080/"
        },
        "id": "zgb5vvergMbB",
        "outputId": "0b997d78-8d78-424a-c44e-a083c0a3d91b"
      },
      "execution_count": 21,
      "outputs": [
        {
          "output_type": "stream",
          "name": "stdout",
          "text": [
            "Tabel klasifikasi data football (Linear Classification With Subset Selection)\n",
            "    1   2   3\n",
            "1  26   1   3\n",
            "2   1  21   8\n",
            "3   2   7  21\n",
            "Accuracy rate =  0.7555555555555555\n"
          ]
        }
      ]
    },
    {
      "cell_type": "markdown",
      "source": [
        "## 9.7 NONPARAMETRIC PROCEDURES"
      ],
      "metadata": {
        "id": "E7zfipBekTdB"
      }
    },
    {
      "cell_type": "markdown",
      "source": [
        "### **Example 9.7.3**"
      ],
      "metadata": {
        "id": "diBYoBrFkgkP"
      }
    },
    {
      "cell_type": "code",
      "source": [
        "url = 'https://github.com/alzimna/Anmul/raw/main/data/t8.3.xlsx'\n",
        "data = pd.read_excel(url)\n",
        "data[\"Group\"] = data[\"Group\"].astype('category')\n",
        "Y = np.asmatrix(data.iloc[:,1:].values)\n",
        "y1_bar = round(data[data[\"Group\"]==1].iloc[:,1:].mean(),1).values\n",
        "y2_bar = round(data[data[\"Group\"]==2].iloc[:,1:].mean(),1).values\n",
        "y3_bar = round(data[data[\"Group\"]==3].iloc[:,1:].mean(),1).values\n",
        "\n",
        "#Menghitung E\n",
        "p = int(data.shape[1]-1)\n",
        "n = int(data.shape[0]/3)\n",
        "E = np.asmatrix(np.zeros((p,p)))\n",
        "\n",
        "for j in range(n*3) :\n",
        "  if j<30 :\n",
        "    E += np.transpose(Y[j]-y1_bar) @ (Y[j]-y1_bar)\n",
        "  elif j<60 :\n",
        "    E += np.transpose(Y[j]-y2_bar) @ (Y[j]-y2_bar)\n",
        "  else :\n",
        "    E += np.transpose(Y[j]-y3_bar) @ (Y[j]-y3_bar)\n",
        "E\n",
        "\n",
        "#Menghitung S_pl\n",
        "S_pl = np.matrix.round(E/87,3)\n",
        "\n",
        "n_1 = [0]*3\n",
        "n_2 = [0]*3\n",
        "n_3 = [0]*3\n",
        "for i in range(n*3) :\n",
        "  y = Y[i]\n",
        "  distance = []\n",
        "  for k in range(90) :\n",
        "    d = float((y-Y[k]) @ np.linalg.inv(S_pl) @ np.transpose((y-Y[k])))\n",
        "    distance.append(d)\n",
        "  id = np.array(distance).argsort()[1:6]//30\n",
        "  vote = [0]*3\n",
        "  for item in id :\n",
        "    vote[item]+=1\n",
        "  m = max(vote)\n",
        "  if vote.count(m)==1 :\n",
        "    if i<30 :\n",
        "      n_1[vote.index(max(vote))]+=1\n",
        "    elif i<60 :\n",
        "      n_2[vote.index(max(vote))]+=1\n",
        "    else :\n",
        "      n_3[vote.index(max(vote))]+=1\n",
        "  else : print(i,vote)\n",
        "#Membuat tabel hasil klasifikasi\n",
        "print(\"Tabel klasifikasi data football (knn)\")\n",
        "dfn = [n_1,n_2,n_3]\n",
        "df = pd.DataFrame(dfn,columns = [1,2,3],index = [1,2,3])\n",
        "print(df)\n",
        "acc = accuracy_rate(df)\n",
        "print(\"Accuracy rate = \",acc)"
      ],
      "metadata": {
        "colab": {
          "base_uri": "https://localhost:8080/"
        },
        "id": "1A6kO8AyhDpf",
        "outputId": "da3baef1-27d2-4f42-afc7-407991e1663a"
      },
      "execution_count": 33,
      "outputs": [
        {
          "output_type": "stream",
          "name": "stdout",
          "text": [
            "0 [2, 2, 1]\n",
            "18 [2, 1, 2]\n",
            "20 [2, 1, 2]\n",
            "42 [1, 2, 2]\n",
            "46 [1, 2, 2]\n",
            "48 [1, 2, 2]\n",
            "67 [1, 2, 2]\n",
            "79 [2, 1, 2]\n",
            "82 [1, 2, 2]\n",
            "88 [1, 2, 2]\n",
            "Tabel klasifikasi data football (knn)\n",
            "    1   2   3\n",
            "1  23   0   4\n",
            "2   1  14  12\n",
            "3   2   6  18\n",
            "Accuracy rate =  0.6875\n"
          ]
        }
      ]
    },
    {
      "cell_type": "code",
      "source": [
        "from sklearn.neighbors import KNeighborsClassifier\n",
        "knn_model = KNeighborsClassifier(n_neighbors=5)\n",
        "X = data.iloc[:,1:].values\n",
        "y = data.iloc[:,0].values\n",
        "knn_model.fit(X, y)\n",
        "train_preds = knn_model.predict(X)\n",
        "n_1 = [0]*3\n",
        "n_2 = [0]*3\n",
        "n_3 = [0]*3\n",
        "for i in range(90) :\n",
        "  if i<30 :\n",
        "    n_1[train_preds[i]-1]+=1\n",
        "  elif i<60 :\n",
        "    n_2[train_preds[i]-1]+=1\n",
        "  else :\n",
        "    n_3[train_preds[i]-1]+=1\n",
        "#Membuat tabel hasil klasifikasi\n",
        "print(\"Tabel klasifikasi data football (Package KNN)\")\n",
        "dfn = [n_1,n_2,n_3]\n",
        "df = pd.DataFrame(dfn,columns = [1,2,3],index = [1,2,3])\n",
        "print(df)\n",
        "acc = accuracy_rate(df)\n",
        "print(\"Accuracy rate = \",acc)"
      ],
      "metadata": {
        "colab": {
          "base_uri": "https://localhost:8080/"
        },
        "id": "N6HMOVrcpeDi",
        "outputId": "b77dae54-a119-4cd4-8222-ec2c2bcc2751"
      },
      "execution_count": 23,
      "outputs": [
        {
          "output_type": "stream",
          "name": "stdout",
          "text": [
            "Tabel klasifikasi data football (Package KNN)\n",
            "    1   2   3\n",
            "1  28   1   1\n",
            "2   1  21   8\n",
            "3   3   9  18\n",
            "Accuracy rate =  0.7444444444444445\n"
          ]
        }
      ]
    },
    {
      "cell_type": "code",
      "source": [],
      "metadata": {
        "id": "tDsq4_Zo88Cu"
      },
      "execution_count": null,
      "outputs": []
    }
  ]
}